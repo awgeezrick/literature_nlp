{
 "cells": [
  {
   "cell_type": "code",
   "execution_count": 1,
   "metadata": {},
   "outputs": [],
   "source": [
    "import pdftotext\n",
    "import pandas as pd\n",
    "import nltk\n",
    "from nltk.corpus import stopwords\n",
    "from nltk import word_tokenize\n",
    "import matplotlib.pyplot as plt\n",
    "import numpy as np\n",
    "np.random.seed(0)\n",
    "from gensim.models import Word2Vec"
   ]
  },
  {
   "cell_type": "code",
   "execution_count": 2,
   "metadata": {},
   "outputs": [],
   "source": [
    "with open(\"war_and_peace.pdf\", \"rb\") as f:\n",
    "    pdf = pdftotext.PDF(f)"
   ]
  },
  {
   "cell_type": "code",
   "execution_count": 3,
   "metadata": {},
   "outputs": [],
   "source": [
    " \n",
    "# Save all text to a txt file.\n",
    "with open('wp.txt', 'w') as f:\n",
    "    f.write(\"\\n\\n\".join(pdf))"
   ]
  },
  {
   "cell_type": "code",
   "execution_count": 4,
   "metadata": {},
   "outputs": [],
   "source": [
    "df = pd.read_fwf('wp.txt')"
   ]
  },
  {
   "cell_type": "code",
   "execution_count": 5,
   "metadata": {},
   "outputs": [
    {
     "data": {
      "text/html": [
       "<div>\n",
       "<style scoped>\n",
       "    .dataframe tbody tr th:only-of-type {\n",
       "        vertical-align: middle;\n",
       "    }\n",
       "\n",
       "    .dataframe tbody tr th {\n",
       "        vertical-align: top;\n",
       "    }\n",
       "\n",
       "    .dataframe thead th {\n",
       "        text-align: right;\n",
       "    }\n",
       "</style>\n",
       "<table border=\"1\" class=\"dataframe\">\n",
       "  <thead>\n",
       "    <tr style=\"text-align: right;\">\n",
       "      <th></th>\n",
       "      <th>War and Peace</th>\n",
       "    </tr>\n",
       "  </thead>\n",
       "  <tbody>\n",
       "    <tr>\n",
       "      <td>0</td>\n",
       "      <td>By Leo Tolstoy</td>\n",
       "    </tr>\n",
       "    <tr>\n",
       "      <td>1</td>\n",
       "      <td>Translated by Louise and Aylmer Maude</td>\n",
       "    </tr>\n",
       "    <tr>\n",
       "      <td>2</td>\n",
       "      <td>Published by Planet eBook. Visit the site to d...</td>\n",
       "    </tr>\n",
       "    <tr>\n",
       "      <td>3</td>\n",
       "      <td>eBooks of classic literature, books and novels.</td>\n",
       "    </tr>\n",
       "    <tr>\n",
       "      <td>4</td>\n",
       "      <td>This work is licensed under a Creative Commons...</td>\n",
       "    </tr>\n",
       "  </tbody>\n",
       "</table>\n",
       "</div>"
      ],
      "text/plain": [
       "                                       War and Peace\n",
       "0                                     By Leo Tolstoy\n",
       "1              Translated by Louise and Aylmer Maude\n",
       "2  Published by Planet eBook. Visit the site to d...\n",
       "3    eBooks of classic literature, books and novels.\n",
       "4  This work is licensed under a Creative Commons..."
      ]
     },
     "execution_count": 5,
     "metadata": {},
     "output_type": "execute_result"
    }
   ],
   "source": [
    "df[:5]"
   ]
  },
  {
   "cell_type": "code",
   "execution_count": 6,
   "metadata": {},
   "outputs": [],
   "source": [
    "data = df['War and Peace'].map(word_tokenize)"
   ]
  },
  {
   "cell_type": "code",
   "execution_count": 7,
   "metadata": {},
   "outputs": [
    {
     "data": {
      "text/plain": [
       "0                                   [By, Leo, Tolstoy]\n",
       "1         [Translated, by, Louise, and, Aylmer, Maude]\n",
       "2    [Published, by, Planet, eBook, ., Visit, the, ...\n",
       "3    [eBooks, of, classic, literature, ,, books, an...\n",
       "4    [This, work, is, licensed, under, a, Creative,...\n",
       "Name: War and Peace, dtype: object"
      ]
     },
     "execution_count": 7,
     "metadata": {},
     "output_type": "execute_result"
    }
   ],
   "source": [
    "data[:5]"
   ]
  },
  {
   "cell_type": "code",
   "execution_count": 8,
   "metadata": {},
   "outputs": [],
   "source": [
    "model = Word2Vec(data, size=100, window=5, min_count=1, workers=4)"
   ]
  },
  {
   "cell_type": "code",
   "execution_count": 9,
   "metadata": {},
   "outputs": [
    {
     "data": {
      "text/plain": [
       "(4861850, 6904600)"
      ]
     },
     "execution_count": 9,
     "metadata": {},
     "output_type": "execute_result"
    }
   ],
   "source": [
    "model.train(data, total_examples=model.corpus_count, epochs=10)"
   ]
  },
  {
   "cell_type": "code",
   "execution_count": 10,
   "metadata": {},
   "outputs": [],
   "source": [
    "wv = model.wv"
   ]
  },
  {
   "cell_type": "code",
   "execution_count": 11,
   "metadata": {},
   "outputs": [
    {
     "data": {
      "text/plain": [
       "[('Rhetor', 0.7533652782440186),\n",
       " ('Mason', 0.7477074265480042),\n",
       " ('doctor', 0.73775714635849),\n",
       " ('vice-King', 0.7333962321281433),\n",
       " ('vicomte', 0.7300015687942505),\n",
       " ('troopsours', 0.7293374538421631),\n",
       " ('squadwon', 0.7288943529129028),\n",
       " ('mummers', 0.7224324941635132),\n",
       " ('division', 0.7194356918334961),\n",
       " ('Governor', 0.7181448936462402)]"
      ]
     },
     "execution_count": 11,
     "metadata": {},
     "output_type": "execute_result"
    }
   ],
   "source": [
    "wv.most_similar('Tsar')"
   ]
  },
  {
   "cell_type": "code",
   "execution_count": 12,
   "metadata": {},
   "outputs": [
    {
     "data": {
      "text/plain": [
       "[('docto', 0.572014570236206),\n",
       " ('count', 0.5625014305114746),\n",
       " ('prince', 0.5234476327896118),\n",
       " ('ros', 0.5178815722465515),\n",
       " ('doctor', 0.49594610929489136),\n",
       " ('countess', 0.4554111659526825),\n",
       " ('ovna', 0.4538498818874359),\n",
       " ('way', 0.4460659921169281),\n",
       " ('ressed', 0.44049161672592163),\n",
       " ('Emperor', 0.43697065114974976)]"
      ]
     },
     "execution_count": 12,
     "metadata": {},
     "output_type": "execute_result"
    }
   ],
   "source": [
    "wv.most_similar(positive=['Tsar', 'woman'], negative='Man')"
   ]
  },
  {
   "cell_type": "code",
   "execution_count": 13,
   "metadata": {},
   "outputs": [],
   "source": [
    "wp = ' '.join(df['War and Peace'].values)"
   ]
  },
  {
   "cell_type": "code",
   "execution_count": 14,
   "metadata": {},
   "outputs": [],
   "source": [
    "wpsplit = wp.split(' ')"
   ]
  },
  {
   "cell_type": "code",
   "execution_count": 15,
   "metadata": {},
   "outputs": [],
   "source": [
    "wpsplit.remove('')"
   ]
  },
  {
   "cell_type": "code",
   "execution_count": 16,
   "metadata": {},
   "outputs": [],
   "source": [
    "wpdict = {}\n",
    "for i in wpsplit:\n",
    "    if i not in wpdict.keys():\n",
    "        wpdict[i] =1\n",
    "    else:\n",
    "        wpdict[i] += 1"
   ]
  },
  {
   "cell_type": "code",
   "execution_count": 17,
   "metadata": {},
   "outputs": [],
   "source": [
    "i_sort = sorted(wpdict, key=wpdict.get, reverse=True)"
   ]
  },
  {
   "cell_type": "code",
   "execution_count": 18,
   "metadata": {},
   "outputs": [],
   "source": [
    "stop = list(set(stopwords.words('english')))"
   ]
  },
  {
   "cell_type": "code",
   "execution_count": 19,
   "metadata": {},
   "outputs": [],
   "source": [
    "i_sort.remove('')"
   ]
  },
  {
   "cell_type": "code",
   "execution_count": 40,
   "metadata": {},
   "outputs": [],
   "source": [
    "more_stop = ['and',\n",
    " 'of',\n",
    " 'in',\n",
    " 'he',\n",
    " 'was',\n",
    " 'at',\n",
    " 'not',\n",
    " 'as',\n",
    " 'it',\n",
    " 'I',\n",
    " 'but',\n",
    " 'she',\n",
    " 'The',\n",
    " 'said',\n",
    " 'were',\n",
    " 'be',\n",
    " 'which',\n",
    " 'who',\n",
    " 'one',\n",
    " 'He',\n",
    " 'an',\n",
    " 'he',\n",
    " 'as',\n",
    " 'she',\n",
    " 'be',\n",
    " 'He',\n",
    " 'Planet',\n",
    " 'eBooks',\n",
    " 'Free',\n",
    " 'eBook.com',\n",
    " 'could',\n",
    " 'no',\n",
    " 'will',\n",
    " 'now',\n",
    " 'went',\n",
    " 'But',\n",
    " 'And',\n",
    " 'him.',\n",
    " 'man',\n",
    " '‘I',\n",
    " 'old',\n",
    " 'him,',\n",
    " 'She',\n",
    " 'would',\n",
    " 'eBook.com',\n",
    " 'him.',\n",
    " 'him,',\n",
    " 'like',\n",
    " 'came',\n",
    " 'looked',\n",
    " 'time',\n",
    " 'began',\n",
    " 'know',\n",
    " 'without',\n",
    " 'face',\n",
    " 'thought',\n",
    " 'felt',\n",
    " 'see',\n",
    " 'still',\n",
    " 'ing',\n",
    " 'men',\n",
    " 'It',\n",
    " 'seemed',\n",
    " 'left',\n",
    " 'go',\n",
    " 'little',\n",
    " 'come',\n",
    " 'In',\n",
    " 'eyes',\n",
    " 'two',\n",
    " 'even',\n",
    " 'must',\n",
    " 'long',\n",
    " 'saw',\n",
    " 'made',\n",
    " 'something',\n",
    " 'go',\n",
    " 'come',\n",
    " 'always',\n",
    " 'it.',\n",
    " 'heard',\n",
    " 'say',\n",
    " 'army',\n",
    " 'and,',\n",
    " 'young',\n",
    " 'took',\n",
    " 'told',\n",
    " 'don’t',\n",
    " 'back']"
   ]
  },
  {
   "cell_type": "code",
   "execution_count": 41,
   "metadata": {},
   "outputs": [],
   "source": [
    "for i in i_sort:\n",
    "    if i in stop:\n",
    "        i_sort.remove(i)"
   ]
  },
  {
   "cell_type": "code",
   "execution_count": 42,
   "metadata": {},
   "outputs": [],
   "source": [
    "for i in i_sort:\n",
    "    if i in more_stop:\n",
    "        i_sort.remove(i)"
   ]
  },
  {
   "cell_type": "code",
   "execution_count": 43,
   "metadata": {},
   "outputs": [
    {
     "data": {
      "text/plain": [
       "['Prince',\n",
       " 'Pierre',\n",
       " 'War',\n",
       " 'Natasha',\n",
       " 'Andrew',\n",
       " 'French',\n",
       " 'Peace',\n",
       " 'first',\n",
       " 'asked',\n",
       " 'whole']"
      ]
     },
     "execution_count": 43,
     "metadata": {},
     "output_type": "execute_result"
    }
   ],
   "source": [
    "i_sort[:10]"
   ]
  },
  {
   "cell_type": "code",
   "execution_count": 44,
   "metadata": {},
   "outputs": [],
   "source": [
    "sortdict = {}\n",
    "for i in i_sort:\n",
    "    sortdict[i] = wpdict[i]"
   ]
  },
  {
   "cell_type": "code",
   "execution_count": 50,
   "metadata": {},
   "outputs": [],
   "source": [
    "top20 = list(sortdict.keys())[:20]"
   ]
  },
  {
   "cell_type": "code",
   "execution_count": 51,
   "metadata": {},
   "outputs": [],
   "source": [
    "top20val = list(sortdict.values())[:20]"
   ]
  },
  {
   "cell_type": "code",
   "execution_count": 52,
   "metadata": {},
   "outputs": [
    {
     "data": {
      "image/png": "[encoded data removed]",
      "text/plain": [
       "<Figure size 1080x648 with 1 Axes>"
      ]
     },
     "metadata": {
      "needs_background": "light"
     },
     "output_type": "display_data"
    }
   ],
   "source": [
    "plt.figure(figsize = (15,9))\n",
    "plt.bar(top20, top20val)\n",
    "plt.xticks(rotation=60)\n",
    "plt.show()"
   ]
  },
  {
   "cell_type": "code",
   "execution_count": null,
   "metadata": {},
   "outputs": [],
   "source": []
  }
 ],
 "metadata": {
  "kernelspec": {
   "display_name": "Python 3",
   "language": "python",
   "name": "python3"
  },
  "language_info": {
   "codemirror_mode": {
    "name": "ipython",
    "version": 3
   },
   "file_extension": ".py",
   "mimetype": "text/x-python",
   "name": "python",
   "nbconvert_exporter": "python",
   "pygments_lexer": "ipython3",
   "version": "3.7.4"
  },
  "toc": {
   "base_numbering": 1,
   "nav_menu": {},
   "number_sections": true,
   "sideBar": true,
   "skip_h1_title": false,
   "title_cell": "Table of Contents",
   "title_sidebar": "Contents",
   "toc_cell": false,
   "toc_position": {},
   "toc_section_display": true,
   "toc_window_display": false
  }
 },
 "nbformat": 4,
 "nbformat_minor": 2
}
